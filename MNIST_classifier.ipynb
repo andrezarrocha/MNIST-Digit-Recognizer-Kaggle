{
 "cells": [
  {
   "cell_type": "code",
   "execution_count": 1,
   "id": "df99110f",
   "metadata": {},
   "outputs": [],
   "source": [
    "import numpy as np\n",
    "import pandas as pd\n",
    "import random\n",
    "from scipy.ndimage.interpolation import shift\n",
    "from sklearn.model_selection import train_test_split, cross_val_score\n",
    "from sklearn.preprocessing import StandardScaler\n",
    "from sklearn.svm import SVC\n",
    "from sklearn.ensemble import GradientBoostingClassifier\n",
    "from sklearn.multiclass import OneVsOneClassifier\n",
    "from sklearn.metrics import accuracy_score\n",
    "from sklearn.model_selection import GridSearchCV\n",
    "from sklearn.linear_model import SGDClassifier\n",
    "\n",
    "SEED = 42\n",
    "random.seed(SEED)\n",
    "np.random.seed(SEED)"
   ]
  },
  {
   "cell_type": "code",
   "execution_count": 2,
   "id": "760c6959",
   "metadata": {},
   "outputs": [],
   "source": [
    "TRAIN_PATH = \"./digit-recognizer/train.csv\"\n",
    "TEST_PATH = \"./digit-recognizer/test.csv\"\n",
    "SAMPLE_SUBMISSION_PATH = \"./digit-recognizer/sample_submission.csv\"\n",
    "SUBMISSION_PATH = \"submission.csv\"\n",
    "\n",
    "TEST_SIZE = 0.1"
   ]
  },
  {
   "cell_type": "markdown",
   "id": "b600675c",
   "metadata": {},
   "source": [
    "## Importando dados para treinamento supervisionado"
   ]
  },
  {
   "cell_type": "code",
   "execution_count": 3,
   "id": "159bd377",
   "metadata": {},
   "outputs": [
    {
     "data": {
      "text/plain": [
       "(42000, 785)"
      ]
     },
     "execution_count": 3,
     "metadata": {},
     "output_type": "execute_result"
    }
   ],
   "source": [
    "mnist = np.genfromtxt(TRAIN_PATH, dtype=int, delimiter=',', skip_header=1)\n",
    "np.shape(mnist)"
   ]
  },
  {
   "cell_type": "code",
   "execution_count": 4,
   "id": "14e0a5be",
   "metadata": {},
   "outputs": [],
   "source": [
    "X, y = mnist[:,1:], mnist[:,0]"
   ]
  },
  {
   "cell_type": "code",
   "execution_count": 5,
   "id": "d3fac0e8",
   "metadata": {},
   "outputs": [
    {
     "data": {
      "text/plain": [
       "((42000, 784), (42000,))"
      ]
     },
     "execution_count": 5,
     "metadata": {},
     "output_type": "execute_result"
    }
   ],
   "source": [
    "np.shape(X), np.shape(y)"
   ]
  },
  {
   "cell_type": "markdown",
   "id": "eae92042",
   "metadata": {},
   "source": [
    "## Dividindo em conjunto de treino e validação "
   ]
  },
  {
   "cell_type": "code",
   "execution_count": 6,
   "id": "4ea398fa",
   "metadata": {},
   "outputs": [
    {
     "data": {
      "text/plain": [
       "((37800, 784), (37800,), (4200, 784), (4200,))"
      ]
     },
     "execution_count": 6,
     "metadata": {},
     "output_type": "execute_result"
    }
   ],
   "source": [
    "X_train, X_val, y_train, y_val = train_test_split(X, y, test_size=TEST_SIZE, random_state=SEED)\n",
    "np.shape(X_train), np.shape(y_train), np.shape(X_val), np.shape(y_val)"
   ]
  },
  {
   "cell_type": "markdown",
   "id": "bd6f4ef9",
   "metadata": {},
   "source": [
    "## Treinando baseline para comparação "
   ]
  },
  {
   "cell_type": "code",
   "execution_count": 9,
   "id": "e8951c4b",
   "metadata": {},
   "outputs": [
    {
     "data": {
      "text/plain": [
       "GradientBoostingClassifier()"
      ]
     },
     "execution_count": 9,
     "metadata": {},
     "output_type": "execute_result"
    }
   ],
   "source": [
    "gbc_clf = GradientBoostingClassifier()\n",
    "gbc_clf.fit(X_train, y_train)"
   ]
  },
  {
   "cell_type": "code",
   "execution_count": 10,
   "id": "c7658956",
   "metadata": {},
   "outputs": [],
   "source": [
    "y_gbc = gbc_clf.predict(X_val)"
   ]
  },
  {
   "cell_type": "code",
   "execution_count": 11,
   "id": "1ee3983d",
   "metadata": {},
   "outputs": [
    {
     "data": {
      "text/plain": [
       "0.9416666666666667"
      ]
     },
     "execution_count": 11,
     "metadata": {},
     "output_type": "execute_result"
    }
   ],
   "source": [
    "accuracy_score(y_val, y_gbc)"
   ]
  },
  {
   "cell_type": "code",
   "execution_count": null,
   "id": "8797edb1",
   "metadata": {},
   "outputs": [],
   "source": [
    "# cross_val_score(gbc_clf, X_train, y_train, cv=3, scoring=\"accuracy\")"
   ]
  },
  {
   "cell_type": "markdown",
   "id": "7c72ad41",
   "metadata": {},
   "source": [
    "# Busca pelos melhores hiperparâmetros para classificador"
   ]
  },
  {
   "cell_type": "markdown",
   "id": "cf64dc1f",
   "metadata": {},
   "source": [
    "### Classificador com parâmetros default "
   ]
  },
  {
   "cell_type": "code",
   "execution_count": 39,
   "id": "dde6622e",
   "metadata": {},
   "outputs": [],
   "source": [
    "svc = SVC(kernel='poly', degree=4)\n",
    "svc_poly_ovo = OneVsOneClassifier(svc)"
   ]
  },
  {
   "cell_type": "code",
   "execution_count": 40,
   "id": "1262ac44",
   "metadata": {},
   "outputs": [
    {
     "data": {
      "text/plain": [
       "OneVsOneClassifier(estimator=SVC(degree=4, kernel='poly'))"
      ]
     },
     "execution_count": 40,
     "metadata": {},
     "output_type": "execute_result"
    }
   ],
   "source": [
    "svc_poly_ovo.fit(X_train, y_train)"
   ]
  },
  {
   "cell_type": "code",
   "execution_count": 47,
   "id": "760b56fe",
   "metadata": {},
   "outputs": [],
   "source": [
    "y_default = svc_poly_ovo.predict(X_val)"
   ]
  },
  {
   "cell_type": "code",
   "execution_count": 48,
   "id": "10494cfe",
   "metadata": {},
   "outputs": [
    {
     "data": {
      "text/plain": [
       "0.9638095238095238"
      ]
     },
     "execution_count": 48,
     "metadata": {},
     "output_type": "execute_result"
    }
   ],
   "source": [
    "accuracy_score(y_val, y_default)"
   ]
  },
  {
   "cell_type": "code",
   "execution_count": null,
   "id": "811daf50",
   "metadata": {},
   "outputs": [],
   "source": [
    "# cross_val_score(svc_poly_ovo, X_train, y_train, cv=3, scoring=\"accuracy\")"
   ]
  },
  {
   "cell_type": "code",
   "execution_count": 11,
   "id": "17acf51c",
   "metadata": {},
   "outputs": [
    {
     "data": {
      "text/plain": [
       "GridSearchCV(cv=5,\n",
       "             estimator=OneVsOneClassifier(estimator=SVC(degree=4,\n",
       "                                                        kernel='poly')),\n",
       "             param_grid=[{'estimator__C': [1, 10],\n",
       "                          'estimator__gamma': [1, 10]}],\n",
       "             return_train_score=True, scoring='accuracy')"
      ]
     },
     "execution_count": 11,
     "metadata": {},
     "output_type": "execute_result"
    }
   ],
   "source": [
    "params = [{'estimator__C':[1, 10], 'estimator__gamma':[1, 10]}]\n",
    "\n",
    "grid_search = GridSearchCV(svc_poly_ovo, params, cv=5, scoring='accuracy', return_train_score=True)\n",
    "grid_search.fit(X_train, y_train)"
   ]
  },
  {
   "cell_type": "code",
   "execution_count": 24,
   "id": "9303c98c",
   "metadata": {},
   "outputs": [
    {
     "name": "stdout",
     "output_type": "stream",
     "text": [
      "0.9657671957671958 {'estimator__C': 1, 'estimator__gamma': 1}\n",
      "0.9657671957671958 {'estimator__C': 1, 'estimator__gamma': 10}\n",
      "0.9657671957671958 {'estimator__C': 10, 'estimator__gamma': 1}\n",
      "0.9657671957671958 {'estimator__C': 10, 'estimator__gamma': 10}\n"
     ]
    }
   ],
   "source": [
    "cvres = grid_search.cv_results_\n",
    "for mean_score, params in zip(cvres[\"mean_test_score\"], cvres[\"params\"]):\n",
    "    print(mean_score, params)"
   ]
  },
  {
   "cell_type": "code",
   "execution_count": 41,
   "id": "55e7d8fe",
   "metadata": {},
   "outputs": [
    {
     "data": {
      "text/plain": [
       "{'estimator__C': 1, 'estimator__gamma': 1}"
      ]
     },
     "execution_count": 41,
     "metadata": {},
     "output_type": "execute_result"
    }
   ],
   "source": [
    "best_params = grid_search.best_params_\n",
    "best_params"
   ]
  },
  {
   "cell_type": "markdown",
   "id": "1cf633c4",
   "metadata": {},
   "source": [
    "## Treinando e avaliando classificador com os melhores hiperparâmetros "
   ]
  },
  {
   "cell_type": "code",
   "execution_count": 13,
   "id": "2a27d96e",
   "metadata": {},
   "outputs": [],
   "source": [
    "svc = SVC(kernel='poly', degree=4, C=best_params['estimator__C'], gamma=best_params['estimator__gamma'])\n",
    "# svc = SVC(kernel='poly', degree=4, C=1, gamma=1)\n",
    "svc_poly_ovo = OneVsOneClassifier(svc)"
   ]
  },
  {
   "cell_type": "markdown",
   "id": "abf13352",
   "metadata": {},
   "source": [
    "### Data Augmentation "
   ]
  },
  {
   "cell_type": "code",
   "execution_count": 7,
   "id": "afe26cc3",
   "metadata": {},
   "outputs": [],
   "source": [
    "def shift_image(image, dx, dy):\n",
    "    image = image.reshape((28, 28))\n",
    "    shifted_image = shift(image, [dy, dx], cval=0, mode=\"constant\")\n",
    "    return shifted_image.reshape([-1])"
   ]
  },
  {
   "cell_type": "code",
   "execution_count": 8,
   "id": "03c3d640",
   "metadata": {},
   "outputs": [
    {
     "data": {
      "text/plain": [
       "((189000, 784), (189000,))"
      ]
     },
     "execution_count": 8,
     "metadata": {},
     "output_type": "execute_result"
    }
   ],
   "source": [
    "X_train_augmented = [image for image in X_train]\n",
    "y_train_augmented = [label for label in y_train]\n",
    "\n",
    "for dx, dy in ((1, 0), (-1, 0), (0, 1), (0, -1)):\n",
    "    for image, label in zip(X_train, y_train):\n",
    "        X_train_augmented.append(shift_image(image, dx, dy))\n",
    "        y_train_augmented.append(label)\n",
    "\n",
    "X_train_augmented = np.array(X_train_augmented)\n",
    "y_train_augmented = np.array(y_train_augmented)\n",
    "np.shape(X_train_augmented), np.shape(y_train_augmented)"
   ]
  },
  {
   "cell_type": "markdown",
   "id": "ef9bba38",
   "metadata": {},
   "source": [
    "### Treinando com conjunto de treino expandido "
   ]
  },
  {
   "cell_type": "code",
   "execution_count": 19,
   "id": "9f9e0e3c",
   "metadata": {},
   "outputs": [
    {
     "data": {
      "text/plain": [
       "OneVsOneClassifier(estimator=SVC(C=1, degree=4, gamma=1, kernel='poly'))"
      ]
     },
     "execution_count": 19,
     "metadata": {},
     "output_type": "execute_result"
    }
   ],
   "source": [
    "svc_poly_ovo.fit(X_train_augmented, y_train_augmented)"
   ]
  },
  {
   "cell_type": "code",
   "execution_count": 22,
   "id": "eb9b9e8a",
   "metadata": {},
   "outputs": [],
   "source": [
    "y_exp_pred = svc_poly_ovo.predict(X_val)"
   ]
  },
  {
   "cell_type": "code",
   "execution_count": 23,
   "id": "ae38c17d",
   "metadata": {},
   "outputs": [
    {
     "data": {
      "text/plain": [
       "0.98"
      ]
     },
     "execution_count": 23,
     "metadata": {},
     "output_type": "execute_result"
    }
   ],
   "source": [
    "accuracy_score(y_val, y_exp_pred)"
   ]
  },
  {
   "cell_type": "code",
   "execution_count": null,
   "id": "62f2aae1",
   "metadata": {},
   "outputs": [],
   "source": [
    "# cross_val_score(svc_poly_ovo, X_train, y_train, cv=3, scoring=\"accuracy\")"
   ]
  },
  {
   "cell_type": "code",
   "execution_count": 27,
   "id": "d18c3ba6",
   "metadata": {},
   "outputs": [
    {
     "data": {
      "text/plain": [
       "(28000, 784)"
      ]
     },
     "execution_count": 27,
     "metadata": {},
     "output_type": "execute_result"
    }
   ],
   "source": [
    "X_test = np.genfromtxt(TEST_PATH, dtype=int, delimiter=',', skip_header=1)\n",
    "np.shape(X_test)"
   ]
  },
  {
   "cell_type": "code",
   "execution_count": 28,
   "id": "2a52b293",
   "metadata": {},
   "outputs": [],
   "source": [
    "results = svc_poly_ovo.predict(X_test)"
   ]
  },
  {
   "cell_type": "code",
   "execution_count": 29,
   "id": "c191eb57",
   "metadata": {},
   "outputs": [
    {
     "data": {
      "text/html": [
       "<div>\n",
       "<style scoped>\n",
       "    .dataframe tbody tr th:only-of-type {\n",
       "        vertical-align: middle;\n",
       "    }\n",
       "\n",
       "    .dataframe tbody tr th {\n",
       "        vertical-align: top;\n",
       "    }\n",
       "\n",
       "    .dataframe thead th {\n",
       "        text-align: right;\n",
       "    }\n",
       "</style>\n",
       "<table border=\"1\" class=\"dataframe\">\n",
       "  <thead>\n",
       "    <tr style=\"text-align: right;\">\n",
       "      <th></th>\n",
       "      <th>ImageId</th>\n",
       "      <th>Label</th>\n",
       "    </tr>\n",
       "  </thead>\n",
       "  <tbody>\n",
       "    <tr>\n",
       "      <th>0</th>\n",
       "      <td>1</td>\n",
       "      <td>2</td>\n",
       "    </tr>\n",
       "    <tr>\n",
       "      <th>1</th>\n",
       "      <td>2</td>\n",
       "      <td>0</td>\n",
       "    </tr>\n",
       "    <tr>\n",
       "      <th>2</th>\n",
       "      <td>3</td>\n",
       "      <td>9</td>\n",
       "    </tr>\n",
       "    <tr>\n",
       "      <th>3</th>\n",
       "      <td>4</td>\n",
       "      <td>4</td>\n",
       "    </tr>\n",
       "    <tr>\n",
       "      <th>4</th>\n",
       "      <td>5</td>\n",
       "      <td>3</td>\n",
       "    </tr>\n",
       "  </tbody>\n",
       "</table>\n",
       "</div>"
      ],
      "text/plain": [
       "   ImageId  Label\n",
       "0        1      2\n",
       "1        2      0\n",
       "2        3      9\n",
       "3        4      4\n",
       "4        5      3"
      ]
     },
     "execution_count": 29,
     "metadata": {},
     "output_type": "execute_result"
    }
   ],
   "source": [
    "sub = pd.read_csv(SAMPLE_SUBMISSION_PATH)\n",
    "sub[\"Label\"] = results\n",
    "sub.to_csv(SUBMISSION_PATH,index=False)\n",
    "sub.head()"
   ]
  }
 ],
 "metadata": {
  "kernelspec": {
   "display_name": "Python 3 (ipykernel)",
   "language": "python",
   "name": "python3"
  },
  "language_info": {
   "codemirror_mode": {
    "name": "ipython",
    "version": 3
   },
   "file_extension": ".py",
   "mimetype": "text/x-python",
   "name": "python",
   "nbconvert_exporter": "python",
   "pygments_lexer": "ipython3",
   "version": "3.9.5"
  }
 },
 "nbformat": 4,
 "nbformat_minor": 5
}
